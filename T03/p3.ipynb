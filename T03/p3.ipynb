{
 "cells": [
  {
   "cell_type": "code",
   "execution_count": null,
   "id": "91318a40",
   "metadata": {},
   "outputs": [],
   "source": [
    "import numpy as np\n",
    "\n",
    "# Dimensión de la matriz\n",
    "n = 10\n",
    "\n",
    "# Generar matriz aleatoria en (-0.5, 0.5)\n",
    "A = np.random.uniform(-0.5, 0.5, (n, n))\n",
    "\n",
    "# Hacerla simétrica\n",
    "A = (A + A.T) / 2\n",
    "\n",
    "# Calcular autovalores de A\n",
    "eigvals_A = np.linalg.eigvalsh(A)\n",
    "\n",
    "# Encontrar el menor autovalor\n",
    "lambda_min = np.min(eigvals_A)\n",
    "\n",
    "# Escoger alpha suficientemente grande\n",
    "alpha = abs(lambda_min) + 1e-3  # margen positivo\n",
    "\n",
    "# Construir B\n",
    "B = A + alpha * np.eye(n)\n",
    "\n",
    "# Verificar positividad\n",
    "eigvals_B = np.linalg.eigvalsh(B)"
   ]
  },
  {
   "cell_type": "code",
   "execution_count": null,
   "id": "e7348db8",
   "metadata": {},
   "outputs": [],
   "source": [
    "print(\"Matriz A:\\n\", A)"
   ]
  },
  {
   "cell_type": "code",
   "execution_count": null,
   "id": "7f8c70ad",
   "metadata": {},
   "outputs": [],
   "source": [
    "print(\"Autovalores de A:\", eigvals_A)"
   ]
  },
  {
   "cell_type": "code",
   "execution_count": null,
   "id": "d1983a2c",
   "metadata": {},
   "outputs": [],
   "source": [
    "print(\"Matriz B (A + alpha*I):\\n\", B)"
   ]
  },
  {
   "cell_type": "code",
   "execution_count": null,
   "id": "dcd13159",
   "metadata": {},
   "outputs": [],
   "source": [
    "print(\"Autovalores de B:\", eigvals_B)"
   ]
  },
  {
   "cell_type": "code",
   "execution_count": null,
   "id": "c178936d",
   "metadata": {},
   "outputs": [],
   "source": [
    "print(\"¿B es definida positiva?:\", np.all(eigvals_B > 0))"
   ]
  }
 ],
 "metadata": {
  "kernelspec": {
   "display_name": "stats",
   "language": "python",
   "name": "python3"
  },
  "language_info": {
   "codemirror_mode": {
    "name": "ipython",
    "version": 3
   },
   "file_extension": ".py",
   "mimetype": "text/x-python",
   "name": "python",
   "nbconvert_exporter": "python",
   "pygments_lexer": "ipython3",
   "version": "3.12.9"
  }
 },
 "nbformat": 4,
 "nbformat_minor": 5
}
