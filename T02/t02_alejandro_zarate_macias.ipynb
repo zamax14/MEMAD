{
 "cells": [
  {
   "cell_type": "markdown",
   "id": "43612103",
   "metadata": {},
   "source": [
    "# Tarea 2\n",
    "\n",
    "**Autor:** Alejandro Zarate Macias  \n",
    "**Curso:** Métodos Matemáticos para Análisis de Datos  \n",
    "**Fecha:** 01 de Septiembre 2025\n",
    "\n",
    "---\n",
    "\n",
    "## Introducción\n",
    "\n",
    "En este notebook se abordan los problemas 6, 9 y 10 de la Tarea 3, relacionados con la optimizacion de multiples funciones y encontrar sus valores minimos o donde la funcion tiende a 0.\n",
    "El objetivo principal es desarrollar códigos que permitan calcular, analizar y visualizar los resultados de estas optimizaciones.\n",
    "\n",
    "---"
   ]
  },
  {
   "cell_type": "markdown",
   "id": "76a65e9b",
   "metadata": {},
   "source": [
    "## Problema 6"
   ]
  },
  {
   "cell_type": "code",
   "execution_count": null,
   "id": "09a88204",
   "metadata": {},
   "outputs": [],
   "source": [
    "import numpy as np                   # Manejo de vectores y matrices\n",
    "import matplotlib.pyplot as plt      # Visualización de datos"
   ]
  },
  {
   "cell_type": "code",
   "execution_count": null,
   "id": "61f07a92",
   "metadata": {},
   "outputs": [],
   "source": [
    "def graficar_contorno(funcion, puntos_xy=[], xlim=(-5, 5), ylim=(-5, 5), resolucion=100, niveles=30):\n",
    "    \"\"\"\n",
    "    Grafica el contorno de una función dada y marca puntos específicos.\n",
    "    \n",
    "    Parámetros:\n",
    "    - funcion: función de dos variables f(x, y) que retorna un valor escalar\n",
    "    - puntos_xy: lista de tuplas [(x1, y1), (x2, y2), ...] con los puntos a marcar\n",
    "    - xlim: tupla (xmin, xmax) para el rango del eje x\n",
    "    - ylim: tupla (ymin, ymax) para el rango del eje y\n",
    "    - resolucion: número de puntos en cada dirección para crear la malla\n",
    "    - niveles: número de líneas de contorno a dibujar\n",
    "    \"\"\"\n",
    "    \n",
    "    # Crear la malla de puntos\n",
    "    x = np.linspace(xlim[0], xlim[1], resolucion)\n",
    "    y = np.linspace(ylim[0], ylim[1], resolucion)\n",
    "    X, Y = np.meshgrid(x, y)\n",
    "    \n",
    "    # Evaluar la función en todos los puntos de la malla\n",
    "    Z = funcion(X, Y)\n",
    "    \n",
    "    # Crear la figura\n",
    "    plt.figure(figsize=(10, 8))\n",
    "    \n",
    "    # Dibujar las curvas de nivel\n",
    "    plt.contourf(X, Y, Z, levels=niveles, alpha=0.3, cmap='coolwarm')\n",
    "    \n",
    "    # Marcar los puntos dados\n",
    "    for i, (px, py) in enumerate(puntos_xy):\n",
    "        plt.plot(px, py, 'ro', markersize=8, markeredgecolor='black', markeredgewidth=1)\n",
    "        plt.annotate(f'x_{i+1}', (px, py), xytext=(5, 5), \n",
    "                    textcoords='offset points', fontsize=12, fontweight='bold')\n",
    "    \n",
    "    # Configurar la gráfica\n",
    "    plt.xlabel('x', fontsize=12)\n",
    "    plt.ylabel('y', fontsize=12)\n",
    "    plt.title('Gráfica de Contornos de la Función', fontsize=14)\n",
    "    plt.grid(True, alpha=0.3)\n",
    "    plt.colorbar(label='Valor de la función')\n",
    "    plt.axis('equal')\n",
    "    \n",
    "    # Mostrar la gráfica\n",
    "    plt.show()"
   ]
  },
  {
   "cell_type": "code",
   "execution_count": null,
   "id": "87d61ac8",
   "metadata": {},
   "outputs": [],
   "source": [
    "def funcion_a(x,y):\n",
    "    # f(x,y) = ln(x² + y² + 1)\n",
    "    return np.log(x**2 + y**2 + 1)\n",
    "\n",
    "def funcion_b(x,y):\n",
    "    # f(x,y) = x² + y² - x - y + 1\n",
    "    return x**2 + y**2 - x - y + 1\n",
    "\n",
    "def funcion_c(x,y):\n",
    "    # f(x,y) = e^xcos(y)\n",
    "    return np.exp(x) * np.cos(y)\n",
    "\n",
    "def funcion_d(x,y):\n",
    "    # f(x,y) = (x² + y - 11)² + (x + y² - 7)²\n",
    "    return (x**2 + y - 11)**2 + (x + y**2 - 7)**2\n"
   ]
  },
  {
   "cell_type": "code",
   "execution_count": null,
   "id": "55bbe312",
   "metadata": {},
   "outputs": [],
   "source": [
    "puntos_a = [(0, 0)]\n",
    "puntos_b = [(1/2, 1/2)]\n",
    "puntos_c = []\n",
    "puntos_d = [(3, 2), \n",
    "            (-2.805118, 3.131312),\n",
    "            (-3.779310, -3.283186),\n",
    "            (3.584428, -1.848126)]"
   ]
  },
  {
   "cell_type": "code",
   "execution_count": null,
   "id": "5cac9f0f",
   "metadata": {},
   "outputs": [],
   "source": [
    "graficar_contorno(funcion_a, puntos_a, xlim=(-3, 3), ylim=(-3, 3), resolucion=100, niveles=30)"
   ]
  },
  {
   "cell_type": "code",
   "execution_count": null,
   "id": "da53d054",
   "metadata": {},
   "outputs": [],
   "source": [
    "graficar_contorno(funcion_b, puntos_b, xlim=(-3, 3), ylim=(-3, 3), resolucion=100, niveles=30)"
   ]
  },
  {
   "cell_type": "code",
   "execution_count": null,
   "id": "9d5b82bc",
   "metadata": {},
   "outputs": [],
   "source": [
    "graficar_contorno(funcion_c, puntos_c, xlim=(-5, 5), ylim=(-5, 5), resolucion=100, niveles=30)"
   ]
  },
  {
   "cell_type": "code",
   "execution_count": null,
   "id": "ca129bc2",
   "metadata": {},
   "outputs": [],
   "source": [
    "graficar_contorno(funcion_d, puntos_d, xlim=(-5, 5), ylim=(-5, 5), resolucion=100, niveles=30)"
   ]
  }
 ],
 "metadata": {
  "kernelspec": {
   "display_name": "stats",
   "language": "python",
   "name": "python3"
  },
  "language_info": {
   "codemirror_mode": {
    "name": "ipython",
    "version": 3
   },
   "file_extension": ".py",
   "mimetype": "text/x-python",
   "name": "python",
   "nbconvert_exporter": "python",
   "pygments_lexer": "ipython3",
   "version": "3.12.9"
  }
 },
 "nbformat": 4,
 "nbformat_minor": 5
}
