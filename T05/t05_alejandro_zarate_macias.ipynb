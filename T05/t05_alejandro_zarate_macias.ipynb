{
 "cells": [
  {
   "cell_type": "markdown",
   "id": "aa22ed0b",
   "metadata": {},
   "source": [
    "# Tarea 5\n",
    "\n",
    "**Autor:** Alejandro Zarate Macias  \n",
    "**Curso:** Métodos Matemáticos para Análisis de Datos  \n",
    "**Fecha:** 22 de Septiembre 2025\n",
    "\n",
    "---\n",
    "\n",
    "## Introducción\n",
    "\n",
    "En este notebook se abordan los problemas 1-6 de la Tarea 5, en los que se requiere la implementacion de algoritmos Gauss-Newton, SGD y ADAM, con el objetivo de comparar su rendimiento en diferentes escenarios de optimización.\n",
    "\n",
    "---"
   ]
  },
  {
   "cell_type": "markdown",
   "id": "8238d0ad",
   "metadata": {
    "vscode": {
     "languageId": "plaintext"
    }
   },
   "source": [
    "## Importante\n",
    "\n",
    "Las funciones \n",
    "- $f(x)$\n",
    "- $h(x_i, \\theta)$\n",
    "- $Loss$\n",
    "- $Cost$ \n",
    "\n",
    "se utilizan a lo largo de diferentes problemas. Por lo tanto, se definen al inicio del notebook para evitar redundancia en el código."
   ]
  },
  {
   "cell_type": "markdown",
   "id": "9deb1861",
   "metadata": {},
   "source": [
    "---"
   ]
  },
  {
   "cell_type": "markdown",
   "id": "eba89155",
   "metadata": {},
   "source": [
    "# Problema 1\n",
    "\n",
    "Considere la siguiente función\n",
    "\n",
    "$f(x) = 2^{cos(x^2)}, \\quad x \\in (-\\pi,\\pi).$\n",
    "\n",
    "A continuación, haga lo siguiente:\n",
    "\n",
    "\n",
    "- Calcule 500 pares de datos de muestra $D = {x_i,f(x_i)}$ donde los $x_i$ están equiespaciados.\n",
    "- Realice un gráfico de $D$.\n",
    "- Considere un modelo polinomial de grado $\\mathcal{N}$:\n",
    "    \n",
    "    $h(x_i, \\theta) = \\hat{y_i} = \\sum^{\\mathcal{N}}_{\\ell=0}\\theta_{\\ell}x^{\\ell}_{i}, \\quad \\theta=(\\theta_{0}, \\theta_{1}, \\theta_{2}, ...,\\theta_{\\mathcal{N}}) \\in \\mathbb{R}^{\\mathcal{N}+1}.$\n",
    "    \n",
    "- Considere una función de pérdida y costo de MSE:\n",
    "\n",
    "    $Loss(y_i, \\hat{y_i}) = (y_i - \\hat{y_i})^2,$\n",
    "\n",
    "    $Cost(\\theta;D) = \\frac{1}{m}\\sum^{m}_{i=1}Loss(y_i, \\hat{y_i})$\n",
    "    \n",
    "- Codifique un script en Python para resolver el problema de optimización asociado utilizando un algoritmo de búsqueda lineal determinista. Puede probar $\\mathcal{N}$ = 8, por ejemplo.\n",
    "- Haz una gráfica de la solución contra $f(x_i)$ y muestra en otra gráfica cómo el costo disminuye a medida que pasan las iteraciones.\n"
   ]
  },
  {
   "cell_type": "markdown",
   "id": "9b7c3b96",
   "metadata": {},
   "source": [
    "## Métodos"
   ]
  },
  {
   "cell_type": "code",
   "execution_count": null,
   "id": "58a9f508",
   "metadata": {},
   "outputs": [],
   "source": []
  },
  {
   "cell_type": "markdown",
   "id": "35c8ff52",
   "metadata": {},
   "source": [
    "## Resultados"
   ]
  },
  {
   "cell_type": "code",
   "execution_count": null,
   "id": "bbcada32",
   "metadata": {},
   "outputs": [],
   "source": []
  },
  {
   "cell_type": "markdown",
   "id": "f59b79e0",
   "metadata": {},
   "source": [
    "---"
   ]
  },
  {
   "cell_type": "markdown",
   "id": "34798c7b",
   "metadata": {},
   "source": [
    "# Problema 2\n",
    "\n",
    "Intenta encontrar un tamaño más adecuado para el modelo paramétrico del problema anterior resolviendo de nuevo varios valores de $\\mathcal{N}$. Crea gráficos que muestren tus hallazgos. A partir de aquí, puedes fijar este valor de N para los problemas restantes."
   ]
  },
  {
   "cell_type": "markdown",
   "id": "488047d6",
   "metadata": {},
   "source": [
    "## Métodos"
   ]
  },
  {
   "cell_type": "code",
   "execution_count": null,
   "id": "311360ba",
   "metadata": {},
   "outputs": [],
   "source": []
  },
  {
   "cell_type": "markdown",
   "id": "5ff98507",
   "metadata": {},
   "source": [
    "## Resultados"
   ]
  },
  {
   "cell_type": "code",
   "execution_count": null,
   "id": "b4b4c9cf",
   "metadata": {},
   "outputs": [],
   "source": []
  },
  {
   "cell_type": "markdown",
   "id": "41686308",
   "metadata": {},
   "source": [
    "---"
   ]
  },
  {
   "cell_type": "markdown",
   "id": "e3e3f06f",
   "metadata": {},
   "source": [
    "# Problema 3\n",
    "\n",
    "Cree un script para resolver el Problema 1 utilizando un gradiente descendente de Minibach con una tasa de aprendizaje constante $\\alpha$. Genere una gráfica de la solución en función de $f(x_i)$ y muestre en otra gráfica cómo disminuye el coste a medida que transcurren las iteraciones."
   ]
  },
  {
   "cell_type": "markdown",
   "id": "b0937214",
   "metadata": {},
   "source": [
    "# Métodos"
   ]
  },
  {
   "cell_type": "code",
   "execution_count": null,
   "id": "13de5969",
   "metadata": {},
   "outputs": [],
   "source": []
  },
  {
   "cell_type": "markdown",
   "id": "673bd53b",
   "metadata": {},
   "source": [
    "# Resultados"
   ]
  },
  {
   "cell_type": "code",
   "execution_count": null,
   "id": "afb89ee1",
   "metadata": {},
   "outputs": [],
   "source": []
  },
  {
   "cell_type": "markdown",
   "id": "6a8853ec",
   "metadata": {},
   "source": [
    "---"
   ]
  },
  {
   "cell_type": "markdown",
   "id": "6b41de0c",
   "metadata": {},
   "source": [
    "# Problema 4\n",
    "\n",
    "Repita el Problema 3 usando Adam."
   ]
  },
  {
   "cell_type": "markdown",
   "id": "b3903295",
   "metadata": {},
   "source": [
    "## Métodos"
   ]
  },
  {
   "cell_type": "code",
   "execution_count": null,
   "id": "c4e09c79",
   "metadata": {},
   "outputs": [],
   "source": []
  },
  {
   "cell_type": "markdown",
   "id": "c4c89391",
   "metadata": {},
   "source": [
    "## Resultados"
   ]
  },
  {
   "cell_type": "code",
   "execution_count": null,
   "id": "425fb6a4",
   "metadata": {},
   "outputs": [],
   "source": []
  },
  {
   "cell_type": "markdown",
   "id": "57eb6a31",
   "metadata": {},
   "source": [
    "---"
   ]
  },
  {
   "cell_type": "markdown",
   "id": "4d6a548d",
   "metadata": {},
   "source": [
    "# Problema 5\n",
    "\n",
    "Compara las soluciones y el rendimiento de los tres algoritmos que utilizaste para resolver el problema 1. Escribe tus conclusiones y haz algunos gráficos."
   ]
  },
  {
   "cell_type": "markdown",
   "id": "b081b69a",
   "metadata": {},
   "source": [
    "## Métodos"
   ]
  },
  {
   "cell_type": "code",
   "execution_count": null,
   "id": "f6eca925",
   "metadata": {},
   "outputs": [],
   "source": []
  },
  {
   "cell_type": "markdown",
   "id": "5de216d5",
   "metadata": {},
   "source": [
    "## Resultados"
   ]
  },
  {
   "cell_type": "code",
   "execution_count": null,
   "id": "c77d77a5",
   "metadata": {},
   "outputs": [],
   "source": []
  },
  {
   "cell_type": "markdown",
   "id": "7b7bea0a",
   "metadata": {},
   "source": [
    "---"
   ]
  },
  {
   "cell_type": "markdown",
   "id": "31ceb311",
   "metadata": {},
   "source": [
    "# Problema 6\n",
    "\n",
    "Hasta ahora has resuelto un problema sin ruido, es decir,\n",
    "\n",
    "$f(x)=2^{cos(x^2)}+\\mathcal{X}, \\quad x \\in (-\\pi,\\pi), \\mathcal{X} \\sim \\mathcal{N}(0,\\sigma^{2}),$\n",
    "\n",
    "Donde solo se ha considerado el caso con $\\sigma^2=0$. Repita los ejercicios 1 a 5 para los niveles de ruido $\\sigma^2 = 0.05,0.1,0.5$. No olvide anotar todas sus conclusiones y reflexiones."
   ]
  },
  {
   "cell_type": "markdown",
   "id": "e0f76929",
   "metadata": {},
   "source": [
    "## Métodos"
   ]
  },
  {
   "cell_type": "code",
   "execution_count": null,
   "id": "3882c7fa",
   "metadata": {},
   "outputs": [],
   "source": []
  },
  {
   "cell_type": "markdown",
   "id": "b21a83df",
   "metadata": {},
   "source": [
    "## Resultados"
   ]
  },
  {
   "cell_type": "code",
   "execution_count": null,
   "id": "7a2632ba",
   "metadata": {},
   "outputs": [],
   "source": []
  }
 ],
 "metadata": {
  "kernelspec": {
   "display_name": "stats",
   "language": "python",
   "name": "python3"
  },
  "language_info": {
   "name": "python",
   "version": "3.11.11"
  }
 },
 "nbformat": 4,
 "nbformat_minor": 5
}
